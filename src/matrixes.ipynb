{
 "cells": [
  {
   "cell_type": "code",
   "execution_count": 1,
   "id": "531d101b",
   "metadata": {},
   "outputs": [
    {
     "name": "stdout",
     "output_type": "stream",
     "text": [
      "hlloworsd\n"
     ]
    }
   ],
   "source": [
    "print(\"hlloworsd\")"
   ]
  },
  {
   "cell_type": "code",
   "execution_count": 2,
   "id": "0bb002a7",
   "metadata": {},
   "outputs": [
    {
     "name": "stdout",
     "output_type": "stream",
     "text": [
      "c:\\Users\\arask\\source\\repos\\linear_algebra_experimentations\\.venv\\Scripts\\python.exe\n",
      "C:\\Users\\arask\\AppData\\Local\\Programs\\Python\\Python312\\python.exe\n",
      "C:\\Users\\arask\\AppData\\Local\\Microsoft\\WindowsApps\\python.exe\n"
     ]
    }
   ],
   "source": [
    "!where python"
   ]
  }
 ],
 "metadata": {
  "kernelspec": {
   "display_name": "Python (linear_algebra_experiments)",
   "language": "python",
   "name": "linear_algebra_experiments"
  },
  "language_info": {
   "codemirror_mode": {
    "name": "ipython",
    "version": 3
   },
   "file_extension": ".py",
   "mimetype": "text/x-python",
   "name": "python",
   "nbconvert_exporter": "python",
   "pygments_lexer": "ipython3",
   "version": "3.12.1"
  }
 },
 "nbformat": 4,
 "nbformat_minor": 5
}
